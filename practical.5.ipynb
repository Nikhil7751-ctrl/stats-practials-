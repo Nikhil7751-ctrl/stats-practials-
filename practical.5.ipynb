{
 "cells": [
  {
   "cell_type": "markdown",
   "id": "4a236a85-76e2-4984-bffe-6d4eac1f11d5",
   "metadata": {},
   "source": [
    "Q1. Using the teachers' rating dataset, what is the probability of receiving an evaluation score of greater than 45\n"
   ]
  },
  {
   "cell_type": "code",
   "execution_count": 9,
   "id": "006f0e65-b97d-49b4-bfd0-b1b6f4b3962f",
   "metadata": {},
   "outputs": [
    {
     "name": "stdout",
     "output_type": "stream",
     "text": [
      "-----------------------------------\n"
     ]
    }
   ],
   "source": [
    "\n",
    "import numpy as np\n",
    "from scipy import stats\n",
    "import math\n",
    "\n",
    "print(\"-\" * 35)\n",
    "ratings = np.array([\n",
    "    3.8, 2.5, 4.6, 4.9, 3.2, 4.1, 4.8, 3.7, 4.3, 2.9, 4.7, 3.6, 4.0, 4.4, 3.9,\n",
    "    5.0, 4.2, 3.4, 4.5, 3.8, 4.6, 4.1, 3.5, 4.8, 3.9, 4.7, 3.3, 4.0, 4.3, 3.1,\n",
    "    4.9, 2.8, 4.5, 3.7, 4.2, 3.6, 4.6, 4.1, 3.8, 4.4, 4.0, 3.9, 4.7, 4.2, 3.5,\n",
    "    4.8, 4.3, 3.0, 4.6, 4.1\n",
    "])\n",
    "\n"
   ]
  },
  {
   "cell_type": "code",
   "execution_count": 11,
   "id": "34c569a4-ed5f-46d2-a3d9-0e4fce1a001c",
   "metadata": {},
   "outputs": [
    {
     "name": "stdout",
     "output_type": "stream",
     "text": [
      "Q1: Probability of receiving a score > 4.5\n",
      "   - Count of scores > 4.5: 13\n",
      "   - Total scores: 50\n",
      "   - Probability: 13/50 = 0.26 or 26%\n",
      "\n"
     ]
    }
   ],
   "source": [
    "\n",
    "count_gt_4_5 = np.sum(ratings > 4.5)\n",
    "total_count = len(ratings)\n",
    "\n",
    "prob_gt_4_5 = count_gt_4_5 / total_count\n",
    "\n",
    "print(f\"Q1: Probability of receiving a score > 4.5\")\n",
    "print(f\"   - Count of scores > 4.5: {count_gt_4_5}\")\n",
    "print(f\"   - Total scores: {total_count}\")\n",
    "print(f\"   - Probability: {count_gt_4_5}/{total_count} = {prob_gt_4_5:.2f} or {prob_gt_4_5:.0%}\\n\")\n",
    "\n"
   ]
  },
  {
   "cell_type": "markdown",
   "id": "1f07d14f-f6c7-49ef-8e46-8300af2c3236",
   "metadata": {},
   "source": [
    "\n",
    "Q2. Using the teachers' rating dataset, what is the probability of receiving an evaluation score greeter Ihan 35 and less than 4.2"
   ]
  },
  {
   "cell_type": "markdown",
   "id": "4c621b31-a36e-4e1f-b0c0-5312e0374c6c",
   "metadata": {},
   "source": [
   
   ]
  },
  {
   "cell_type": "code",
   "execution_count": 13,
   "id": "3ee40efd-33ac-4f74-89cc-127f3805ca39",
   "metadata": {},
   "outputs": [
    {
     "name": "stdout",
     "output_type": "stream",
     "text": [
      "Q2: Probability of receiving a score > 3.5 and < 4.2\n",
      "   - Count of scores in range: 17\n",
      "   - Total scores: 50\n",
      "   - Probability: 17/50 = 0.34 or 34%\n",
      "\n"
     ]
    }
   ],
   "source": [
    "\n",
    "count_between = np.sum((ratings > 3.5) & (ratings < 4.2))\n",
    "\n",
    "prob_between = count_between / total_count\n",
    "\n",
    "print(f\"Q2: Probability of receiving a score > 3.5 and < 4.2\")\n",
    "print(f\"   - Count of scores in range: {count_between}\")\n",
    "print(f\"   - Total scores: {total_count}\")\n",
    "print(f\"   - Probability: {count_between}/{total_count} = {prob_between:.2f} or {prob_between:.0%}\\n\")\n",
    "\n"
   ]
  },
  {
   "cell_type": "markdown",
   "id": "41395861-62e9-4bd2-ae77-13ccd7ffdf04",
   "metadata": {},
   "source": [
    "\n",
    "Q3. Using the two-tailed test from a normal distribution\n",
    "1. A professional basketball team wants to compare its performance with that of players in a regional league\n",
    "\n",
    "2. The pros are known to have a historic mean of 12 points per game with a standard deviation of 5 5\n",
    "\n",
    "3. A group of 36 regional players recorded on average 10 7 points per game\n",
    "\n",
    "4. The pro coach would like to know whether his professional team scores on average are different from that of the regionat players\n",
    "\n",
    "State the null hypothesis\n",
    "\n",
    "Null Hypo (The mean point of the regional players is not different from the historic mean\")\n",
    "\n",
    "Alternative Hypo: (\"The mean point of the regional players is different from the historic mean\")\n"
   ]
  },
  {
   "cell_type": "code",
   "execution_count": 15,
   "id": "567de181-4f42-48ef-9b40-142a21be1205",
   "metadata": {},
   "outputs": [
    {
     "name": "stdout",
     "output_type": "stream",
     "text": [
      "Stating the Hypotheses:\n",
      "Null Hypothesis (H0): The mean score of the regional players is equal to 12. ($H_0: \\mu = 12$)\n",
      "Alternative Hypothesis (Ha): The mean score of the regional players is not equal to 12. ($H_a: \\mu \\neq 12$)\n",
      "\n",
      "Performing the Two-Tailed Z-test:\n",
      "   - Sample Mean (x̄): 10.7\n",
      "   - Z-score: -1.4182\n",
      "   - P-value: 0.1561\n",
      "\n",
      "Conclusion (at α = 0.05 significance level):\n",
      "   - Since the p-value (0.1561) is greater than 0.05, we FAIL TO REJECT the null hypothesis.\n",
      "   - There is not enough evidence to conclude that the professional team's average score is different from that of the regional players.\n"
     ]
    }
   ],
   "source": [
    "print(\"Stating the Hypotheses:\")\n",
    "\n",
    "print(\"Null Hypothesis (H0): The mean score of the regional players is equal to 12. ($H_0: \\\\mu = 12$)\")\n",
    "\n",
    "print(\"Alternative Hypothesis (Ha): The mean score of the regional players is not equal to 12. ($H_a: \\\\mu \\\\neq 12$)\\n\")\n",
    "\n",
    "mu_0 = 12       \n",
    "sigma = 5.5     \n",
    "n = 36          \n",
    "x_bar = 10.7    \n",
    "\n",
    "# Step 1: Calculate the standard error of the mean (SEM)\n",
    "# This measures the standard deviation of the sample mean's distribution.\n",
    "sem = sigma / math.sqrt(n)\n",
    "\n",
    "# Step 2: Calculate the Z-score (the test statistic)\n",
    "# This tells us how many standard errors the sample mean is from the population mean.\n",
    "z_score = (x_bar - mu_0) / sem\n",
    "\n",
    "# Step 3: Calculate the p-value for a two-tailed test\n",
    "# This is the probability of observing a result as extreme as, or more extreme than, the one we got.\n",
    "# We multiply by 2 because it's a two-tailed test (we care about differences in both directions).\n",
    "p_value = 2 * stats.norm.cdf(z_score)\n",
    "\n",
    "print(\"Performing the Two-Tailed Z-test:\")\n",
    "print(f\"   - Sample Mean (x̄): {x_bar}\")\n",
    "print(f\"   - Z-score: {z_score:.4f}\")\n",
    "print(f\"   - P-value: {p_value:.4f}\\n\")\n",
    "# Step 4: Make a conclusion based on a significance level (alpha), usually 0.05\n",
    "alpha = 0.05\n",
    "print(f\"Conclusion (at α = {alpha} significance level):\")\n",
    "if p_value < alpha:\n",
    "    print(f\"   - Since the p-value ({p_value:.4f}) is less than {alpha}, we REJECT the null hypothesis.\")\n",
    "    print(\"   - There is statistically significant evidence to conclude that the professional team's average score is different from that of the regional players.\")\n",
    "else:\n",
    "    print(f\"   - Since the p-value ({p_value:.4f}) is greater than {alpha}, we FAIL TO REJECT the null hypothesis.\")\n",
    "    print(\"   - There is not enough evidence to conclude that the professional team's average score is different from that of the regional players.\")\n"
   ]
  },
  {
   "cell_type": "code",
   "execution_count": null,
   "id": "9fb490cf-3845-46ed-9179-3783629dca8d",
   "metadata": {},
   "outputs": [],
   "source": []
  }
 ],
 "metadata": {
  "kernelspec": {
   "display_name": "Python 3 (ipykernel)",
   "language": "python",
   "name": "python3"
  },
  "language_info": {
   "codemirror_mode": {
    "name": "ipython",
    "version": 3
   },
   "file_extension": ".py",
   "mimetype": "text/x-python",
   "name": "python",
   "nbconvert_exporter": "python",
   "pygments_lexer": "ipython3",
   "version": "3.12.4"
  }
 },
 "nbformat": 4,
 "nbformat_minor": 5
}
